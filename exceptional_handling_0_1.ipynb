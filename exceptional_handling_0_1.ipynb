{
  "nbformat": 4,
  "nbformat_minor": 0,
  "metadata": {
    "colab": {
      "provenance": []
    },
    "kernelspec": {
      "name": "python3",
      "display_name": "Python 3"
    },
    "language_info": {
      "name": "python"
    }
  },
  "cells": [
    {
      "cell_type": "code",
      "execution_count": null,
      "metadata": {
        "colab": {
          "base_uri": "https://localhost:8080/"
        },
        "id": "KOd6-NlcdkLR",
        "outputId": "57fe7c6f-766e-4e77-8857-fbda691d928e"
      },
      "outputs": [
        {
          "output_type": "stream",
          "name": "stdout",
          "text": [
            "num1 : 10\n",
            "num2 : 5\n",
            "2.0\n"
          ]
        }
      ],
      "source": [
        "num1 = int(input('num1 : '))\n",
        "num2 = int(input('num2 : '))\n",
        "\n",
        "num3 = num1/num2\n",
        "\n",
        "print(num3)"
      ]
    },
    {
      "cell_type": "code",
      "execution_count": null,
      "metadata": {
        "colab": {
          "base_uri": "https://localhost:8080/",
          "height": 245
        },
        "outputId": "c010070f-5c9e-427c-f872-d79783fc4183",
        "id": "KhwC-l-zoBA4"
      },
      "outputs": [
        {
          "name": "stdout",
          "output_type": "stream",
          "text": [
            "num1 : 10\n",
            "num2 : 0\n"
          ]
        },
        {
          "output_type": "error",
          "ename": "ZeroDivisionError",
          "evalue": "division by zero",
          "traceback": [
            "\u001b[0;31m---------------------------------------------------------------------------\u001b[0m",
            "\u001b[0;31mZeroDivisionError\u001b[0m                         Traceback (most recent call last)",
            "\u001b[0;32m<ipython-input-2-cf20ea2e660f>\u001b[0m in \u001b[0;36m<cell line: 4>\u001b[0;34m()\u001b[0m\n\u001b[1;32m      2\u001b[0m \u001b[0mnum2\u001b[0m \u001b[0;34m=\u001b[0m \u001b[0mint\u001b[0m\u001b[0;34m(\u001b[0m\u001b[0minput\u001b[0m\u001b[0;34m(\u001b[0m\u001b[0;34m'num2 : '\u001b[0m\u001b[0;34m)\u001b[0m\u001b[0;34m)\u001b[0m\u001b[0;34m\u001b[0m\u001b[0;34m\u001b[0m\u001b[0m\n\u001b[1;32m      3\u001b[0m \u001b[0;34m\u001b[0m\u001b[0m\n\u001b[0;32m----> 4\u001b[0;31m \u001b[0mnum3\u001b[0m \u001b[0;34m=\u001b[0m \u001b[0mnum1\u001b[0m\u001b[0;34m/\u001b[0m\u001b[0mnum2\u001b[0m\u001b[0;34m\u001b[0m\u001b[0;34m\u001b[0m\u001b[0m\n\u001b[0m\u001b[1;32m      5\u001b[0m \u001b[0;34m\u001b[0m\u001b[0m\n\u001b[1;32m      6\u001b[0m \u001b[0mprint\u001b[0m\u001b[0;34m(\u001b[0m\u001b[0mnum3\u001b[0m\u001b[0;34m)\u001b[0m\u001b[0;34m\u001b[0m\u001b[0;34m\u001b[0m\u001b[0m\n",
            "\u001b[0;31mZeroDivisionError\u001b[0m: division by zero"
          ]
        }
      ],
      "source": [
        "num1 = int(input('num1 : '))\n",
        "num2 = int(input('num2 : '))\n",
        "\n",
        "num3 = num1/num2\n",
        "\n",
        "print(num3)"
      ]
    },
    {
      "cell_type": "code",
      "source": [
        "num1 = int(input('num1 : '))\n",
        "num2 = int(input('num2 : '))\n",
        "\n",
        "try:\n",
        "   num3 = num1/num2\n",
        "   print(num3)\n",
        "\n",
        "except:\n",
        "  print('an error exist')"
      ],
      "metadata": {
        "colab": {
          "base_uri": "https://localhost:8080/"
        },
        "id": "TUvYyUTnoiES",
        "outputId": "ab2b2d09-773d-494b-9ce1-f12698723d9a"
      },
      "execution_count": null,
      "outputs": [
        {
          "output_type": "stream",
          "name": "stdout",
          "text": [
            "num1 : 10\n",
            "num2 : 0\n",
            "an error exist\n"
          ]
        }
      ]
    },
    {
      "cell_type": "code",
      "source": [
        "num1 = int(input('num1 : '))\n",
        "num2 = int(input('num2 : '))\n",
        "\n",
        "try:\n",
        "   num3 = num1/num2\n",
        "   print(num3)\n",
        "\n",
        "except ZeroDivisionError as v:\n",
        "  print(v)"
      ],
      "metadata": {
        "colab": {
          "base_uri": "https://localhost:8080/"
        },
        "id": "R_5PkKSQpAQy",
        "outputId": "83c46b07-a7e0-4ea4-d86b-3bf32a7fd268"
      },
      "execution_count": null,
      "outputs": [
        {
          "output_type": "stream",
          "name": "stdout",
          "text": [
            "num1 : 6\n",
            "num2 : 0\n",
            "division by zero\n"
          ]
        }
      ]
    },
    {
      "cell_type": "code",
      "source": [
        "num1 = int(input('num1 : '))\n",
        "num2 = int(input('num2 : '))\n",
        "\n",
        "try:\n",
        "   num3 = num1/num2\n",
        "   print(num3)\n",
        "\n",
        "except Exception as v:\n",
        "  print(v)"
      ],
      "metadata": {
        "colab": {
          "base_uri": "https://localhost:8080/"
        },
        "id": "txCKgB0gpfl5",
        "outputId": "78f6da5a-2aa3-44b8-f3e0-3e23a62ba746"
      },
      "execution_count": null,
      "outputs": [
        {
          "output_type": "stream",
          "name": "stdout",
          "text": [
            "num1 : 5\n",
            "num2 : 0\n",
            "division by zero\n"
          ]
        }
      ]
    },
    {
      "cell_type": "code",
      "source": [
        "\n",
        "\n",
        "num1 = int(input('num1 : '))\n",
        "num2 = int(input('num2 : '))\n",
        "try:\n",
        "   num3 = num1/num2\n",
        "   print(num3)\n",
        "\n",
        "except:\n",
        "  print(num3)"
      ],
      "metadata": {
        "colab": {
          "base_uri": "https://localhost:8080/",
          "height": 245
        },
        "id": "gCVSt6eGrSHF",
        "outputId": "2b2ec81a-27ad-4cfc-f196-ccb4dbfe72c1"
      },
      "execution_count": null,
      "outputs": [
        {
          "name": "stdout",
          "output_type": "stream",
          "text": [
            "num1 : 7\n",
            "num2 : n\n"
          ]
        },
        {
          "output_type": "error",
          "ename": "ValueError",
          "evalue": "invalid literal for int() with base 10: 'n'",
          "traceback": [
            "\u001b[0;31m---------------------------------------------------------------------------\u001b[0m",
            "\u001b[0;31mValueError\u001b[0m                                Traceback (most recent call last)",
            "\u001b[0;32m<ipython-input-18-2ae87b2fbd1a>\u001b[0m in \u001b[0;36m<cell line: 2>\u001b[0;34m()\u001b[0m\n\u001b[1;32m      1\u001b[0m \u001b[0mnum1\u001b[0m \u001b[0;34m=\u001b[0m \u001b[0mint\u001b[0m\u001b[0;34m(\u001b[0m\u001b[0minput\u001b[0m\u001b[0;34m(\u001b[0m\u001b[0;34m'num1 : '\u001b[0m\u001b[0;34m)\u001b[0m\u001b[0;34m)\u001b[0m\u001b[0;34m\u001b[0m\u001b[0;34m\u001b[0m\u001b[0m\n\u001b[0;32m----> 2\u001b[0;31m \u001b[0mnum2\u001b[0m \u001b[0;34m=\u001b[0m \u001b[0mint\u001b[0m\u001b[0;34m(\u001b[0m\u001b[0minput\u001b[0m\u001b[0;34m(\u001b[0m\u001b[0;34m'num2 : '\u001b[0m\u001b[0;34m)\u001b[0m\u001b[0;34m)\u001b[0m\u001b[0;34m\u001b[0m\u001b[0;34m\u001b[0m\u001b[0m\n\u001b[0m\u001b[1;32m      3\u001b[0m \u001b[0;32mtry\u001b[0m\u001b[0;34m:\u001b[0m\u001b[0;34m\u001b[0m\u001b[0;34m\u001b[0m\u001b[0m\n\u001b[1;32m      4\u001b[0m    \u001b[0mnum3\u001b[0m \u001b[0;34m=\u001b[0m \u001b[0mnum1\u001b[0m\u001b[0;34m/\u001b[0m\u001b[0mnum2\u001b[0m\u001b[0;34m\u001b[0m\u001b[0;34m\u001b[0m\u001b[0m\n\u001b[1;32m      5\u001b[0m    \u001b[0mprint\u001b[0m\u001b[0;34m(\u001b[0m\u001b[0mnum3\u001b[0m\u001b[0;34m)\u001b[0m\u001b[0;34m\u001b[0m\u001b[0;34m\u001b[0m\u001b[0m\n",
            "\u001b[0;31mValueError\u001b[0m: invalid literal for int() with base 10: 'n'"
          ]
        }
      ]
    },
    {
      "cell_type": "code",
      "source": [
        "try:\n",
        "\n",
        "   num1 = int(input('num1 : '))\n",
        "   num2 = int(input('num2 : '))\n",
        "   num3 = num1/num2\n",
        "   print(num3)\n",
        "\n",
        "except ValueError as v:\n",
        "  print(v)"
      ],
      "metadata": {
        "colab": {
          "base_uri": "https://localhost:8080/"
        },
        "id": "quPk3QvQqgzu",
        "outputId": "3ba8c19d-daf4-4aad-fe82-beddab80148c"
      },
      "execution_count": null,
      "outputs": [
        {
          "output_type": "stream",
          "name": "stdout",
          "text": [
            "num1 : 8\n",
            "num2 : d\n",
            "invalid literal for int() with base 10: 'd'\n"
          ]
        }
      ]
    },
    {
      "cell_type": "code",
      "source": [
        "\n",
        "\n",
        "try:\n",
        "   num1 = int(input('num1 : '))\n",
        "   num2 = int(input('num2 : '))\n",
        "\n",
        "   num3 = num1/num2\n",
        "   print(num3)\n",
        "\n",
        "except Exception as v:\n",
        "  print(v)"
      ],
      "metadata": {
        "colab": {
          "base_uri": "https://localhost:8080/"
        },
        "id": "Yon_F5laqy3s",
        "outputId": "e48cb172-5759-47ef-9425-27286c2de0cc"
      },
      "execution_count": null,
      "outputs": [
        {
          "output_type": "stream",
          "name": "stdout",
          "text": [
            "num1 : 9\n",
            "num2 : g\n",
            "invalid literal for int() with base 10: 'g'\n"
          ]
        }
      ]
    },
    {
      "cell_type": "code",
      "source": [
        "try:\n",
        "   num1 = int(input('num1 : '))\n",
        "   num2 = int(input('num2 : '))\n",
        "\n",
        "   num3 = num1/num2\n",
        "   print(num3)\n",
        "\n",
        "except Exception as v:\n",
        "  print(v)\n",
        "\n",
        "else :\n",
        "  print('there is no error')\n",
        "\n",
        "finally :\n",
        "  print('completed')"
      ],
      "metadata": {
        "colab": {
          "base_uri": "https://localhost:8080/"
        },
        "id": "_7X-tYuLq-nI",
        "outputId": "51ce72eb-7045-4fc0-cbf2-a6934b8c400a"
      },
      "execution_count": null,
      "outputs": [
        {
          "output_type": "stream",
          "name": "stdout",
          "text": [
            "num1 : 56\n",
            "num2 : 0\n",
            "division by zero\n",
            "completed\n"
          ]
        }
      ]
    },
    {
      "cell_type": "code",
      "source": [
        "try:\n",
        "   num1 = int(input('num1 : '))\n",
        "   num2 = int(input('num2 : '))\n",
        "\n",
        "   num3 = num1/num2\n",
        "   print(num3)\n",
        "\n",
        "except Exception as v:\n",
        "  print(v)\n",
        "\n",
        "else :\n",
        "  print('there is no error')\n",
        "\n",
        "finally :\n",
        "  print('completed')"
      ],
      "metadata": {
        "colab": {
          "base_uri": "https://localhost:8080/"
        },
        "id": "5uEVBTYbuG4Y",
        "outputId": "a764d90c-b129-4fff-b534-37a599ae0dd9"
      },
      "execution_count": null,
      "outputs": [
        {
          "output_type": "stream",
          "name": "stdout",
          "text": [
            "num1 : 7\n",
            "num2 : 7\n",
            "1.0\n",
            "there is no error\n",
            "completed\n"
          ]
        }
      ]
    },
    {
      "cell_type": "code",
      "source": [],
      "metadata": {
        "id": "3sx4ECsiuNQ9"
      },
      "execution_count": null,
      "outputs": []
    }
  ]
}